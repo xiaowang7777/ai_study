{
 "cells": [
  {
   "cell_type": "markdown",
   "id": "3c266c3b",
   "metadata": {},
   "source": [
    "# 从图像学习神经网络"
   ]
  },
  {
   "cell_type": "markdown",
   "id": "822121e0",
   "metadata": {},
   "source": [
    "使用 `CIFAR-10` 模型学习，它由 60000 张微小的图像组成，用一个整数对应 10 个级别中的一个：飞机（0）、汽车（1）、鸟（2）、猫（3）、鹿（4）、狗（5）、青蛙（6）、马（7）、船（8）、卡车（9）。\n",
    "\n",
    "使用 `TorchVision` 模块的 `datasets` 模块下载 `CIFAR-10` 数据："
   ]
  },
  {
   "cell_type": "code",
   "execution_count": 1,
   "id": "aeb53004",
   "metadata": {},
   "outputs": [
    {
     "name": "stdout",
     "output_type": "stream",
     "text": [
      "Files already downloaded and verified\n",
      "Files already downloaded and verified\n"
     ]
    }
   ],
   "source": [
    "from torchvision import datasets\n",
    "\n",
    "data_path = \"../data-unversioned/p1ch7/\"\n",
    "cifar10 = datasets.CIFAR10(data_path, train=True, download=True)\n",
    "cifar10_val = datasets.CIFAR10(data_path, train=False, download=True)"
   ]
  },
  {
   "cell_type": "markdown",
   "id": "9bd6e82e",
   "metadata": {},
   "source": [
    "下载完数据后，数据集都作为了 `torch.utils.data.Dataset` 的子类方法返回，可以通过实例中的方法解析顺序看到它的父类："
   ]
  },
  {
   "cell_type": "code",
   "execution_count": 2,
   "id": "b718430d",
   "metadata": {},
   "outputs": [
    {
     "data": {
      "text/plain": [
       "(torchvision.datasets.cifar.CIFAR10,\n",
       " torchvision.datasets.vision.VisionDataset,\n",
       " torch.utils.data.dataset.Dataset,\n",
       " typing.Generic,\n",
       " object)"
      ]
     },
     "execution_count": 2,
     "metadata": {},
     "output_type": "execute_result"
    }
   ],
   "source": [
    "type(cifar10).__mro__"
   ]
  },
  {
   "cell_type": "markdown",
   "id": "063c8db2",
   "metadata": {
    "heading_collapsed": true
   },
   "source": [
    "## Dataset 类"
   ]
  },
  {
   "cell_type": "markdown",
   "id": "db82b29f",
   "metadata": {
    "hidden": true
   },
   "source": [
    "`Dataset` 是需要实现两个方法的对象： `__len__()` 和 `__getitem__()` ，前者返回数据中的项数，后者返回由样本和与之相对应的标签（整数索引）组成的项。在实践中，当一个 `Python` 对象实现了 `__len__()` 方法时，可以将其作为参数传递给 `Python` 的内置函数 `len()`:"
   ]
  },
  {
   "cell_type": "code",
   "execution_count": 3,
   "id": "9996206f",
   "metadata": {
    "hidden": true
   },
   "outputs": [
    {
     "data": {
      "text/plain": [
       "(50000, 10000)"
      ]
     },
     "execution_count": 3,
     "metadata": {},
     "output_type": "execute_result"
    }
   ],
   "source": [
    "len(cifar10), len(cifar10_val)"
   ]
  },
  {
   "cell_type": "markdown",
   "id": "51c858da",
   "metadata": {
    "hidden": true
   },
   "source": [
    "类似地，由于 `Dataset` 实现了 `__get_item__()` 方法，我们可以使用标准索引对元组或列表进行索引访问单个项。在这个例子中，我们得到一个带有期望输出的 PIL(Python Imaging Library) 图像，输出值为 1 ，对应图像数据集中的 *汽车* ："
   ]
  },
  {
   "cell_type": "code",
   "execution_count": 4,
   "id": "c8313d38",
   "metadata": {
    "hidden": true
   },
   "outputs": [
    {
     "data": {
      "text/plain": [
       "(<PIL.Image.Image image mode=RGB size=32x32 at 0x7FB111D89AB0>, 1)"
      ]
     },
     "execution_count": 4,
     "metadata": {},
     "output_type": "execute_result"
    }
   ],
   "source": [
    "image, label = cifar10[99]\n",
    "image,label"
   ]
  },
  {
   "cell_type": "markdown",
   "id": "0e4b964d",
   "metadata": {
    "hidden": true
   },
   "source": [
    "这个图像可以由 `matplotlib` 画出来："
   ]
  },
  {
   "cell_type": "code",
   "execution_count": 5,
   "id": "af688dd2",
   "metadata": {
    "hidden": true
   },
   "outputs": [
    {
     "data": {
      "text/plain": [
       "<function matplotlib.pyplot.show(close=None, block=None)>"
      ]
     },
     "execution_count": 5,
     "metadata": {},
     "output_type": "execute_result"
    },
    {
     "data": {
      "image/png": "[encoded data removed]",
      "text/plain": [
       "<Figure size 640x480 with 1 Axes>"
      ]
     },
     "metadata": {},
     "output_type": "display_data"
    }
   ],
   "source": [
    "from matplotlib import pyplot as plt\n",
    "plt.imshow(image)\n",
    "plt.show"
   ]
  },
  {
   "cell_type": "markdown",
   "id": "18e16704",
   "metadata": {
    "hidden": true
   },
   "source": [
    "### Dataset 变换"
   ]
  },
  {
   "cell_type": "markdown",
   "id": "0f6156e5",
   "metadata": {
    "hidden": true
   },
   "source": [
    "我们现在已经获取到了图像数据，但是还需要一种办法来将 `PIL` 图像转换成 `PyTorch` 张量，这样我们才能使用图像来做一些其他的事，因此需要导入 `torchvision.transforms` 模块。这个模块定义了一组可组合的、类似于函数的对象，它可以作为参数传递到 `TorchVision` 模块的数据集，在数据加载之后、 `__getitem__()` 方法返回之前对数据进行变换。我们可以先看看可用对象的列表："
   ]
  },
  {
   "cell_type": "code",
   "execution_count": 6,
   "id": "5c2c16bb",
   "metadata": {
    "hidden": true
   },
   "outputs": [
    {
     "data": {
      "text/plain": [
       "['AugMix',\n",
       " 'AutoAugment',\n",
       " 'AutoAugmentPolicy',\n",
       " 'CenterCrop',\n",
       " 'ColorJitter',\n",
       " 'Compose',\n",
       " 'ConvertImageDtype',\n",
       " 'ElasticTransform',\n",
       " 'FiveCrop',\n",
       " 'GaussianBlur',\n",
       " 'Grayscale',\n",
       " 'InterpolationMode',\n",
       " 'Lambda',\n",
       " 'LinearTransformation',\n",
       " 'Normalize',\n",
       " 'PILToTensor',\n",
       " 'Pad',\n",
       " 'RandAugment',\n",
       " 'RandomAdjustSharpness',\n",
       " 'RandomAffine',\n",
       " 'RandomApply',\n",
       " 'RandomAutocontrast',\n",
       " 'RandomChoice',\n",
       " 'RandomCrop',\n",
       " 'RandomEqualize',\n",
       " 'RandomErasing',\n",
       " 'RandomGrayscale',\n",
       " 'RandomHorizontalFlip',\n",
       " 'RandomInvert',\n",
       " 'RandomOrder',\n",
       " 'RandomPerspective',\n",
       " 'RandomPosterize',\n",
       " 'RandomResizedCrop',\n",
       " 'RandomRotation',\n",
       " 'RandomSolarize',\n",
       " 'RandomVerticalFlip',\n",
       " 'Resize',\n",
       " 'TenCrop',\n",
       " 'ToPILImage',\n",
       " 'ToTensor',\n",
       " 'TrivialAugmentWide',\n",
       " '__builtins__',\n",
       " '__cached__',\n",
       " '__doc__',\n",
       " '__file__',\n",
       " '__loader__',\n",
       " '__name__',\n",
       " '__package__',\n",
       " '__path__',\n",
       " '__spec__',\n",
       " '_functional_pil',\n",
       " '_functional_tensor',\n",
       " '_presets',\n",
       " 'autoaugment',\n",
       " 'functional',\n",
       " 'transforms']"
      ]
     },
     "execution_count": 6,
     "metadata": {},
     "output_type": "execute_result"
    }
   ],
   "source": [
    "from torchvision import transforms\n",
    "dir(transforms)"
   ]
  },
  {
   "cell_type": "markdown",
   "id": "f8f0d33f",
   "metadata": {
    "hidden": true
   },
   "source": [
    "在这些变化对象中，可以看到 `ToTensor` 对象，它将 `NumPy` 数组和 `PIL` 图像变换成张量。它还将输出张量的尺寸设置为 `C*H*W` ，这正是我们所需要的。现在先来试一试 `ToTensor` 变换："
   ]
  },
  {
   "cell_type": "code",
   "execution_count": 7,
   "id": "782fb0b2",
   "metadata": {
    "hidden": true
   },
   "outputs": [
    {
     "data": {
      "text/plain": [
       "torch.Size([3, 32, 32])"
      ]
     },
     "execution_count": 7,
     "metadata": {},
     "output_type": "execute_result"
    }
   ],
   "source": [
    "to_tensor = transforms.ToTensor()\n",
    "img_t = to_tensor(image)\n",
    "img_t.shape"
   ]
  },
  {
   "cell_type": "markdown",
   "id": "40bad71f",
   "metadata": {
    "hidden": true
   },
   "source": [
    "图像已变换成 3 * 32 * 32 的张量，即一个有 3 个通道 (RGB) 的 32 * 32 的图像，这正是我们期望的，现在我们可以将变换作为参数直接传入："
   ]
  },
  {
   "cell_type": "code",
   "execution_count": 8,
   "id": "27a903a5",
   "metadata": {
    "hidden": true
   },
   "outputs": [],
   "source": [
    "tensor_cifar10 = datasets.CIFAR10(data_path,\n",
    "                                  train=True,\n",
    "                                  download=False,\n",
    "                                  transform=transforms.ToTensor())\n",
    "tensor_cifar10_val = datasets.CIFAR10(data_path,\n",
    "                                  train=False,\n",
    "                                  download=False,\n",
    "                                  transform=transforms.ToTensor())"
   ]
  },
  {
   "cell_type": "markdown",
   "id": "5f77b628",
   "metadata": {
    "hidden": true
   },
   "source": [
    "此时访问元素数据将返回一个张量，而不是 PIL 图像："
   ]
  },
  {
   "cell_type": "code",
   "execution_count": 9,
   "id": "1259dff4",
   "metadata": {
    "hidden": true
   },
   "outputs": [
    {
     "data": {
      "text/plain": [
       "torch.Tensor"
      ]
     },
     "execution_count": 9,
     "metadata": {},
     "output_type": "execute_result"
    }
   ],
   "source": [
    "img_t, _ = tensor_cifar10[99]\n",
    "type(img_t)"
   ]
  },
  {
   "cell_type": "code",
   "execution_count": 10,
   "id": "4f25bf78",
   "metadata": {
    "hidden": true
   },
   "outputs": [
    {
     "data": {
      "text/plain": [
       "(torch.Size([3, 32, 32]), torch.float32)"
      ]
     },
     "execution_count": 10,
     "metadata": {},
     "output_type": "execute_result"
    }
   ],
   "source": [
    "img_t.shape, img_t.dtype"
   ]
  },
  {
   "cell_type": "markdown",
   "id": "81f52b28",
   "metadata": {
    "hidden": true
   },
   "source": [
    "可以看到正如预期的那样，形状的第一维是通道，而标量类型是 `float32` 。原始的 PIL 图像中的值为 0～255 （RGB），而 `ToTensor` 变换为每个通道的 32 位浮点数，将其值缩小为 0.0～1.0 ，可以验证一下："
   ]
  },
  {
   "cell_type": "code",
   "execution_count": 11,
   "id": "9a313c69",
   "metadata": {
    "hidden": true
   },
   "outputs": [
    {
     "data": {
      "text/plain": [
       "(tensor(0.), tensor(1.))"
      ]
     },
     "execution_count": 11,
     "metadata": {},
     "output_type": "execute_result"
    }
   ],
   "source": [
    "img_t.min(), img_t.max()"
   ]
  },
  {
   "cell_type": "markdown",
   "id": "74616724",
   "metadata": {
    "hidden": true
   },
   "source": [
    "在验证一下得到的图像是否相同："
   ]
  },
  {
   "cell_type": "code",
   "execution_count": 12,
   "id": "afb430a6",
   "metadata": {
    "hidden": true
   },
   "outputs": [
    {
     "data": {
      "image/png": "[encoded data removed]",
      "text/plain": [
       "<Figure size 640x480 with 1 Axes>"
      ]
     },
     "metadata": {},
     "output_type": "display_data"
    }
   ],
   "source": [
    "plt.imshow(img_t.permute(1, 2, 0))\n",
    "plt.show()"
   ]
  },
  {
   "cell_type": "markdown",
   "id": "c102af76",
   "metadata": {
    "hidden": true
   },
   "source": [
    "可以看到得到的数据和之前是一样的"
   ]
  },
  {
   "cell_type": "markdown",
   "id": "9680ecc1",
   "metadata": {
    "hidden": true
   },
   "source": [
    "### 数据归一化"
   ]
  },
  {
   "cell_type": "markdown",
   "id": "4cfbe632",
   "metadata": {
    "hidden": true
   },
   "source": [
    "数据变化非常方便，我们可以通过 `transforms.Compose()` 将它们连接起来，然后在数据加载器中透明的进行数据归一化和数据增强操作。\n",
    "\n",
    "现在开始尝试进行归一化：*每个通道的平均值为 0 ,标准差为 1* 。归一化的的原因主要是：可以通过选择在 0±1（或 2 ） 附近呈线性的激活函数，将数据保持在相同的范围内且更有可能具有非零梯度，在这种情况下可以更快的进行学习；同时，对每个通道进行归一化，使其具有相同的分布，可以在保证相同的学习率下，通过剃度下降实现通道信息的混合和更新。\n",
    "\n",
    "`进行归一化的主要原因是为了让数据保持在相同的范围内并更容易进行学习。通过归一化，数据的分布可以更加均匀，可以避免某些特征对模型的影响过大，提高模型的稳定性和泛化能力。此外，归一化后的数据可以更容易地选择合适的激活函数，并且在训练时更容易收敛。在实际应用中，归一化技术已经被广泛应用于各种深度学习模型中，包括卷积神经网络、循环神经网络等。`\n",
    "\n",
    "为了使每个通道的均值为 0 ，标准差为 1 ，可以应用以下转换来计算数据集中每个通道的平均值和标准差：\n",
    "` v_n[c] = (v[c] - mean[c])/stdev[c] `\n",
    "需要注意的是平均值和标准差都需要离线计算，现在让我们计算 `CIFAR-10` 训练集的平均值和标准差。\n",
    "\n",
    "首先需要返回数据集中所有的数据，并将他们在一个额外的维度上进行堆叠（计算整个数据集上的平均值和标准差）："
   ]
  },
  {
   "cell_type": "code",
   "execution_count": 13,
   "id": "e0ac8661",
   "metadata": {
    "hidden": true
   },
   "outputs": [
    {
     "data": {
      "text/plain": [
       "torch.Size([3, 32, 32, 50000])"
      ]
     },
     "execution_count": 13,
     "metadata": {},
     "output_type": "execute_result"
    }
   ],
   "source": [
    "import torch\n",
    "imgs = torch.stack([img_t for img_t,_ in tensor_cifar10], dim=3)\n",
    "imgs.shape"
   ]
  },
  {
   "cell_type": "markdown",
   "id": "b5a40245",
   "metadata": {
    "hidden": true
   },
   "source": [
    "现在我们可以很容易的计算出每个信道的平均值和标准差："
   ]
  },
  {
   "cell_type": "code",
   "execution_count": 14,
   "id": "6c9c6176",
   "metadata": {
    "hidden": true
   },
   "outputs": [
    {
     "data": {
      "text/plain": [
       "(tensor([0.4914, 0.4822, 0.4465]), tensor([0.2470, 0.2435, 0.2616]))"
      ]
     },
     "execution_count": 14,
     "metadata": {},
     "output_type": "execute_result"
    }
   ],
   "source": [
    "# 只保留了第一维，即三个通道，并将剩余的维度合并成一个维度\n",
    "mean = imgs.view(3, -1).mean(dim=1)\n",
    "std = imgs.view(3, -1).std(dim=1)\n",
    "mean, std"
   ]
  },
  {
   "cell_type": "markdown",
   "id": "f2525e1e",
   "metadata": {
    "hidden": true
   },
   "source": [
    "有了这些数据就可以使用 `Normalize` 变换了。\n",
    "接下来将其连接到 `ToTensor` 变换："
   ]
  },
  {
   "cell_type": "code",
   "execution_count": 15,
   "id": "8f067c62",
   "metadata": {
    "hidden": true
   },
   "outputs": [],
   "source": [
    "transformed_cifar10 = datasets.CIFAR10(data_path,\n",
    "                 train=True,\n",
    "                 download=False,\n",
    "                 transform=transforms.Compose([\n",
    "                     transforms.ToTensor(),\n",
    "                     transforms.Normalize((0.4914, 0.4822, 0.4465),\n",
    "                                          (0.2470, 0.2435, 0.2616))\n",
    "                 ]))"
   ]
  },
  {
   "cell_type": "markdown",
   "id": "fc25780a",
   "metadata": {
    "hidden": true
   },
   "source": [
    "注意，此时从数据集绘制的图像不能为我们提供真实的图像："
   ]
  },
  {
   "cell_type": "code",
   "execution_count": 16,
   "id": "bbe6bf69",
   "metadata": {
    "hidden": true
   },
   "outputs": [
    {
     "name": "stderr",
     "output_type": "stream",
     "text": [
      "Clipping input data to the valid range for imshow with RGB data ([0..1] for floats or [0..255] for integers).\n"
     ]
    },
    {
     "data": {
      "image/png": "[encoded data removed]",
      "text/plain": [
       "<Figure size 640x480 with 1 Axes>"
      ]
     },
     "metadata": {},
     "output_type": "display_data"
    }
   ],
   "source": [
    "img_t, _ = transformed_cifar10[99]\n",
    "plt.imshow(img_t.permute(1, 2, 0))\n",
    "plt.show()"
   ]
  },
  {
   "cell_type": "markdown",
   "id": "ee8d6beb",
   "metadata": {
    "hidden": true
   },
   "source": [
    "上面就是重新归一化后得到的红色汽车的图像，归一化对 RGB 超过 0.0~1.0 的数据进行了转化，并调整了通道大小，但所有数据任然存在，只是将其渲染成了黑色。"
   ]
  },
  {
   "cell_type": "markdown",
   "id": "c88bcc2e",
   "metadata": {},
   "source": [
    "## 区分鸟和飞机"
   ]
  },
  {
   "cell_type": "markdown",
   "id": "cb75eac0",
   "metadata": {},
   "source": [
    "在接下来的目标中是从 `cifar10` 数据中区分鸟和飞机。首先我们要构建出数据集，数据集从 `cifar10` 数据中进行过滤，重新映射标签"
   ]
  },
  {
   "cell_type": "code",
   "execution_count": 17,
   "id": "b794db74",
   "metadata": {},
   "outputs": [],
   "source": [
    "label_map = {0: 0, 2: 1}\n",
    "class_names = ['airplane', 'bird']\n",
    "cifar2 = [(img, label_map[label]) for img, label in transformed_cifar10\n",
    "          if label in [0, 2]]\n",
    "cifar2_val = [(img, label_map[label]) for img, label in tensor_cifar10_val\n",
    "              if label in [0, 2]]"
   ]
  },
  {
   "cell_type": "markdown",
   "id": "e60f7e60",
   "metadata": {},
   "source": [
    "`cifar2` 对象已满足了 `Dataset` 的条件——实现了 `__len__()` 和 `__getitem__()` 方法。\n",
    "\n",
    "现在我们已经有了一个数据集，下一步我们需要一个模型，并把数据提供给它。"
   ]
  },
  {
   "cell_type": "markdown",
   "id": "3e00462c",
   "metadata": {},
   "source": [
    "### 一个全连接模型"
   ]
  },
  {
   "cell_type": "markdown",
   "id": "3083a3fd",
   "metadata": {},
   "source": [
    "目前先不考虑图片的空间结构部分，理论上如果把图像象素拉成一个一维向量，就可以把这些数字当成输入特征。在这个例子中，我们每个样本的输入特征都有 `3*32*32` 即 3072 个特征。暂时我们先使用线性模块（nn.Linear），它有 3072 个输入特征和一些隐藏的输出特征，接着是一个激活函数，然后使用另一个线性模块使网络的输出特征逐渐减小到合适的数量（2个）。"
   ]
  },
  {
   "cell_type": "code",
   "execution_count": 18,
   "id": "1ce09503",
   "metadata": {},
   "outputs": [],
   "source": [
    "import torch.nn as nn\n",
    "\n",
    "n_out = 2\n",
    "\n",
    "model = nn.Sequential(nn.Linear(3072, 512), nn.Tanh(), nn.Linear(512, n_out))"
   ]
  },
  {
   "cell_type": "markdown",
   "id": "5d86cf25",
   "metadata": {},
   "source": [
    "目前任意选择了 512 个隐藏特征。需要注意的是神经网络至少需要一个隐藏层，否则它只是一个线性模型。现在我们已经有一个模型了，接下来看看模型输出应该是什么。"
   ]
  },
  {
   "cell_type": "markdown",
   "id": "24da5c26",
   "metadata": {},
   "source": [
    "### 分类器的输出"
   ]
  },
  {
   "cell_type": "markdown",
   "id": "69530d0b",
   "metadata": {},
   "source": [
    "在之前的例子中，网络将预测温度（一个具体有意义的数字）作为输出。我们可以在这里做一些类似的事：使我们的网络输出一个单一的标量值，将标签转换为 float 类型（0.0 代表飞机， 1.0 代表鸟），并将这些作为 `MSELoss()` 的目标。这样做就把这个问题转换成了回归问题。但更仔细的看看，我们现在正在处理一些本质上有点不一样的事情（在“概率”向量上使用距离比在分类数字上使用 `MSELoss()` 好得多）。\n",
    "\n",
    "现在我们需要认识到输出是分类的：它要么是一只鸟要么是一架飞机。当我们必须表示一个分类变量时，我们应该使用该变量的独热编码表示，如对飞机使用 [1,0] 对于鸟使用 [0,1] ，顺序任意。\n",
    "\n",
    "在理想情况下，网络将飞机输出 `troch.tensor([1.0,0.0])` ，为鸟输出 `torch.tensor([0.0,1.0])` 。但实际上，我们的分类器并不是很完美，我们可以期望网络输出介于二者之间的结果。在这种情况下，关键的实现是我们可以将输出解释为概率：第一项是“飞机”的概率，第二项是“鸟“的概率。\n",
    "\n",
    "根据概率来处理问题会对我们的网络输出施加一些额外的约束：\n",
    "* 输入的每个元素都必须在[0.0,1.0]之间\n",
    "* 输出元素的总和必须为 1.0\n",
    "\n",
    "这听起来是很难用可微的方式对数字向量进行限制的问题，但是有一个非常有用的函数可以做到这一点，并且它是可微的： `Softmax`\n",
    "\n",
    "\n",
    "当我们需要将一组数值转换为概率分布时，可以使用softmax函数。它将一组任意实数转换为表示概率的正数，并确保它们总和为1。\n",
    "\n",
    "具体来说，对于给定的向量 $z = [z_1, z_2, ..., z_k]$，softmax函数可以定义为：\n",
    "\n",
    "$$\\text{softmax}(z)_i = \\frac{e^{z_i}}{\\sum_{j=1}^k e^{z_j}}$$\n",
    "\n",
    "其中 $i$ 是向量中的任意索引。这将计算每个元素 $z_i$ 的指数，并将它们除以所有指数的总和，从而得到一个表示概率分布的向量。\n",
    "\n",
    "例如，对于向量 $z = [1, 2, 3]$，softmax函数将计算：\n",
    "\n",
    "$$\\text{softmax}(z) = \\left[\\frac{e^1}{e^1 + e^2 + e^3}, \\frac{e^2}{e^1 + e^2 + e^3}, \\frac{e^3}{e^1 + e^2 + e^3}\\right] = [0.09, 0.24, 0.67]$$\n",
    "\n",
    "这个结果告诉我们，第一个元素是 $z$ 中所有元素的概率为 $9\\%$，第二个元素的概率为 $24\\%$，第三个元素的概率为 $67\\%$。"
   ]
  },
  {
   "cell_type": "markdown",
   "id": "0ef74f08",
   "metadata": {},
   "source": [
    "### 用概率表示输出"
   ]
  },
  {
   "cell_type": "markdown",
   "id": "4cce3336",
   "metadata": {},
   "source": [
    "`softmax` 函数会获取一个值并生成另一个相同维度的向量，每个位置的就是每个位置的概率。接下来可以定义 `softmax` 函数："
   ]
  },
  {
   "cell_type": "code",
   "execution_count": 19,
   "id": "1ac0698f",
   "metadata": {},
   "outputs": [],
   "source": [
    "def softmax(x):\n",
    "    return torch.exp(x) / torch.exp(x).sum()"
   ]
  },
  {
   "cell_type": "markdown",
   "id": "69d372af",
   "metadata": {},
   "source": [
    "现在可以输入一个向量测量它："
   ]
  },
  {
   "cell_type": "code",
   "execution_count": 20,
   "id": "272d464a",
   "metadata": {},
   "outputs": [
    {
     "data": {
      "text/plain": [
       "(tensor([0.0900, 0.2447, 0.6652]), tensor(1.))"
      ]
     },
     "execution_count": 20,
     "metadata": {},
     "output_type": "execute_result"
    }
   ],
   "source": [
    "x = torch.tensor([1.0,2.0,3.0])\n",
    "softmax(x),softmax(x).sum()"
   ]
  },
  {
   "cell_type": "markdown",
   "id": "1de94a73",
   "metadata": {},
   "source": [
    "`torch.nn` 模块中也存在 `Softmax` 函数，不过该函数被作为一个模块，它需要我们指定用来编码概率的维度，因为在通常情况下，输入张量可能有额外的第 0 维，或者有一个沿其编码概率的维度和其他维度："
   ]
  },
  {
   "cell_type": "code",
   "execution_count": 21,
   "id": "c9f04701",
   "metadata": {},
   "outputs": [
    {
     "data": {
      "text/plain": [
       "tensor([[0.0900, 0.2447, 0.6652],\n",
       "        [0.0900, 0.2447, 0.6652]])"
      ]
     },
     "execution_count": 21,
     "metadata": {},
     "output_type": "execute_result"
    }
   ],
   "source": [
    "softmax = nn.Softmax(dim=1)\n",
    "x = torch.tensor([[1.0, 2.0, 3.0], [1.0, 2.0, 3.0]])\n",
    "softmax(x)"
   ]
  },
  {
   "cell_type": "markdown",
   "id": "800a1ce2",
   "metadata": {},
   "source": [
    "现在我们可以在模型的末尾添加一个 `nn.Softmax()` ，这样我们的网络就可以产生概率了："
   ]
  },
  {
   "cell_type": "code",
   "execution_count": 22,
   "id": "4570890a",
   "metadata": {},
   "outputs": [],
   "source": [
    "model = nn.Sequential(nn.Linear(3072, 512), nn.Tanh(), nn.Linear(512, 2),\n",
    "                      nn.Softmax(dim=1))"
   ]
  },
  {
   "cell_type": "markdown",
   "id": "1a5ceb03",
   "metadata": {},
   "source": [
    "现在我们可以尝试运行它，不过首先我们需要构建一个图像："
   ]
  },
  {
   "cell_type": "code",
   "execution_count": 23,
   "id": "fda9546a",
   "metadata": {},
   "outputs": [
    {
     "name": "stderr",
     "output_type": "stream",
     "text": [
      "Clipping input data to the valid range for imshow with RGB data ([0..1] for floats or [0..255] for integers).\n"
     ]
    },
    {
     "data": {
      "image/png": "[encoded data removed]",
      "text/plain": [
       "<Figure size 640x480 with 1 Axes>"
      ]
     },
     "metadata": {},
     "output_type": "display_data"
    }
   ],
   "source": [
    "img, _ = cifar2[0]\n",
    "plt.imshow(img.permute(1, 2, 0))\n",
    "plt.show()"
   ]
  },
  {
   "cell_type": "markdown",
   "id": "2a0d9181",
   "metadata": {},
   "source": [
    "现在，我们有一个鸟的图像，但是在把图像传给模型之前我们需要做一些额外的事：使输入具有正确的维度。在这个例子中，我们的模型在输入中期望有 3072 个特征，而 `nn` 模块处理的是沿着第 0 维成批组织的数据，所以我们需要把 `3*32*32` 的图像变成一个一维数组，然后增加一个第 0 维的维度："
   ]
  },
  {
   "cell_type": "code",
   "execution_count": 24,
   "id": "09c46f87",
   "metadata": {},
   "outputs": [],
   "source": [
    "img_batch = img.view(-1).unsqueeze(0)"
   ]
  },
  {
   "cell_type": "markdown",
   "id": "b93d1a43",
   "metadata": {},
   "source": [
    "接下来就可以调用模型了："
   ]
  },
  {
   "cell_type": "code",
   "execution_count": 25,
   "id": "f1a85760",
   "metadata": {},
   "outputs": [
    {
     "data": {
      "text/plain": [
       "tensor([[0.4124, 0.5876]], grad_fn=<SoftmaxBackward0>)"
      ]
     },
     "execution_count": 25,
     "metadata": {},
     "output_type": "execute_result"
    }
   ],
   "source": [
    "out = model(img_batch)\n",
    "out"
   ]
  },
  {
   "cell_type": "markdown",
   "id": "1d8f8117",
   "metadata": {},
   "source": [
    "现在，我们得到了两种分类的概率，但是需要注意的是线性层的权重和偏置还没训练过，现在它们的值还都是 `PyTorch` 随即生成的 -1.0~1.0 的数据。不过我们现在能看到 `grad_fn` 属性，它位于后向计算图的顶端。\n",
    "\n",
    "此外，虽然我们知道输出概率应该是多少（class_name），但现在的网络还没有这样的指示。第一项是“飞机”，第二项是“鸟”，还是相反？此时的网络还无法分辨。反向传播过后，损失函数将标签和这两个数字联系起来。如果所提供的标签将“飞机”的索引设置为 0 ，“鸟” 设置为 1,那么这就是导出的输出顺序。在训练后我们能通过计算输出概率的 `argmax` 计算作为索引的标签，即获得最大概率的索引。方便的是，可以通过 `torch.max()` 方法和维度，计算出该维度上最大元素以及该值出现的索引。在这个例子中，我们需要沿着概率方向取最大值，因此维度为 1 （输出存在一个默认的第 0 维——批次）："
   ]
  },
  {
   "cell_type": "code",
   "execution_count": 26,
   "id": "05ff7004",
   "metadata": {},
   "outputs": [
    {
     "data": {
      "text/plain": [
       "tensor([1])"
      ]
     },
     "execution_count": 26,
     "metadata": {},
     "output_type": "execute_result"
    }
   ],
   "source": [
    "_, index = torch.max(out, dim=1)\n",
    "index"
   ]
  },
  {
   "cell_type": "markdown",
   "id": "eff0d77f",
   "metadata": {},
   "source": [
    "### 分类的损失"
   ]
  },
  {
   "cell_type": "markdown",
   "id": "fad03f28",
   "metadata": {},
   "source": [
    "在上面的内容中提到了损失是赋予两个标签概率意义的东西，在之前的线性模型的例子中我们使用了 `MSE` 作为损失函数，现在我们依旧能使用 `MSE` ，使输出收敛到[0.0,1.0]和[1.0,0.0]。但是在这个例子中我们并不是真的对精确地再现这些值感兴趣，我们真的感兴趣的是：对于飞机来说，第一个概率高于第二个，对于鸟来说，第二个概率高于第一个。换句话说，我们希望惩罚错误分类，而不是煞费苦心地惩罚那些完全不像 0.0 或 1.0 的东西。\n",
    "\n",
    "在这种情况下，我们需要最大化的是与正确的类相关的概率。正确的类别相关的概率，被称为我们的模型给定参数的似然。换句话说，我们想要一个损失函数，当概率很低的时候，损失非常高（低到其他选择都有比它更高的概率），相反，当概率很低的时候，损失应该很低，而且我们并不是真的专注于将概率提高到 1 。\n",
    "\n",
    "有一个损失函数就是这样的，它被称为负对数似然（NLL）。他的表达式为：\n",
    "$$NLL = -sum(log(out_i[c_i]))$$\n",
    "其中 `sum()` 对于 N 个样本求和，而 `c_i` 是样本 i 的目标类别，下图就是该函数的函数图：\n",
    "\n",
    "![](./data/images/NLL.png)\n",
    "\n",
    "据上图可以看出当预测目标类别概率较低时， `NLL` 会增长到无穷大，而当预测目标类别概率大于 0.5 时， `NLL` 的下降速度非常慢。\n",
    "\n",
    "综上所述，对于批次中的每个样本，分类损失可以按以下步骤计算：\n",
    "\n",
    "1. 运行正向传播，并从最后的线性层获取输出值。\n",
    "2. 计算它们的 `Softmax` ，获取概率。\n",
    "3. 取与目标类别对应的预测概率。\n",
    "4. 计算它的对数，在他前面加上一个负号，在添加到损失中\n",
    "\n"
   ]
  },
  {
   "cell_type": "code",
   "execution_count": null,
   "id": "7549bb79",
   "metadata": {},
   "outputs": [],
   "source": []
  }
 ],
 "metadata": {
  "kernelspec": {
   "display_name": "Python 3 (ipykernel)",
   "language": "python",
   "name": "python3"
  },
  "language_info": {
   "codemirror_mode": {
    "name": "ipython",
    "version": 3
   },
   "file_extension": ".py",
   "mimetype": "text/x-python",
   "name": "python",
   "nbconvert_exporter": "python",
   "pygments_lexer": "ipython3",
   "version": "3.10.6"
  }
 },
 "nbformat": 4,
 "nbformat_minor": 5
}
