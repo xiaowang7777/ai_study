{
 "cells": [
  {
   "cell_type": "markdown",
   "id": "2d07b833",
   "metadata": {},
   "source": [
    "# 卷积神经网络"
   ]
  },
  {
   "cell_type": "code",
   "execution_count": 1,
   "id": "40e30009",
   "metadata": {},
   "outputs": [
    {
     "name": "stdout",
     "output_type": "stream",
     "text": [
      "Files already downloaded and verified\n",
      "Files already downloaded and verified\n"
     ]
    }
   ],
   "source": [
    "from torchvision import datasets\n",
    "import torchvision.transforms as transforms\n",
    "\n",
    "data_path = \"../data-unversioned/p1ch7/\"\n",
    "cifar10 = datasets.CIFAR10(data_path, train=True, download=True)\n",
    "cifar10_val = datasets.CIFAR10(data_path, train=False, download=True)\n",
    "\n",
    "tensor_cifar10 = datasets.CIFAR10(data_path,\n",
    "                                  train=True,\n",
    "                                  download=False,\n",
    "                                  transform=transforms.ToTensor())\n",
    "tensor_cifar10_val = datasets.CIFAR10(data_path,\n",
    "                                      train=False,\n",
    "                                      download=False,\n",
    "                                      transform=transforms.ToTensor())\n",
    "\n",
    "transformed_cifar10 = datasets.CIFAR10(data_path,\n",
    "                                       train=True,\n",
    "                                       download=False,\n",
    "                                       transform=transforms.Compose([\n",
    "                                           transforms.ToTensor(),\n",
    "                                           transforms.Normalize(\n",
    "                                               (0.4914, 0.4822, 0.4465),\n",
    "                                               (0.2470, 0.2435, 0.2616))\n",
    "                                       ]))\n",
    "\n",
    "label_map = {0: 0, 2: 1}\n",
    "class_names = ['airplane', 'bird']\n",
    "cifar2 = [(img, label_map[label]) for img, label in transformed_cifar10\n",
    "          if label in [0, 2]]\n",
    "cifar2_val = [(img, label_map[label]) for img, label in tensor_cifar10_val\n",
    "              if label in [0, 2]]"
   ]
  },
  {
   "cell_type": "markdown",
   "id": "76d8f0a9",
   "metadata": {},
   "source": [
    "在之前的例子中，我们使用了线性层构建了一个简单的模型，它可以拟合数据，这归功于线性层有很多可用于优化的参数。但是这个模型也存在一个问题，即这个模型在记忆训练集方面比在泛化鸟类与飞机的特性方面做的更好。"
   ]
  },
  {
   "cell_type": "markdown",
   "id": "93176e1e",
   "metadata": {},
   "source": [
    "## 卷积介绍"
   ]
  },
  {
   "cell_type": "markdown",
   "id": "73238214",
   "metadata": {},
   "source": [
    "如果想要识别与物体相应的图案，比如说天空中的一架飞机，我们可能需要看看附近的像素是怎样排列的，但我们对那些彼此相距很远的元素的组合并不关心。\n",
    "\n",
    "为了将这种直觉转化为数学形式，我们可以计算像素与其相邻元素位置的加权和，而不是图像中所有元素的加权和。这相当于构建权重矩阵，每个输出特征和输出像素位置都有一个权重矩阵，其距离中心象素的一定距离以外的所有权重都为 0 。这仍然是一个加权和，即线性运算。"
   ]
  },
  {
   "cell_type": "markdown",
   "id": "3aa9d65e",
   "metadata": {},
   "source": [
    "### 卷积的作用"
   ]
  },
  {
   "cell_type": "markdown",
   "id": "0b07721e",
   "metadata": {},
   "source": [
    "前面我们提到了一个很重要的特性：我们希望这些局部位置对输出有影响，而不管它们在图中像的位置，也就是说希望神经网络存在平移不变性。以之前的区分鸟和飞机的数据集为例，将这个模型的输入图像作为矢量矩阵的目标，我们需要实现一个相当复杂的权重模式：大多数权重矩阵将被设置为 0 ，因为相对于输入像素对应的项，大多数像素距离输出像素太远而不会产生影响。对于其他权重矩阵，我们必须找一种方法使这些项保持同步，使它们对应输入和输出像素的相同位置，这意味着我们需要将它们初始化为相同值，并且确保在训练期间网络更新时这些像素绑定的权重保持不变。这样，我们就可以确保权重在邻域操作以影响局部模式，并且局部模式无论在哪都可以被识别出来。\n",
    "\n",
    "当然，这种方法实操性不强，但幸运的是，在图像上有一个现成的、局部的、平移不变的线性操作：卷积。\n",
    "\n",
    "卷积，更精确的讲：离散卷积，被定义为二维图像的权重矩阵的标量积，即核函数与输入中的每个邻域的标量积。将一个 3\\*3 的内核作为一个二维张量：\n",
    "\n",
    "``` py\n",
    "weight = torch.tensor([w00, w01, w02],\n",
    "                      [w10, w11, w12],\n",
    "                      [w20, w21, w22])\n",
    "```\n",
    "以及一个一维的图像通道，M\\*N 的图像：\n",
    "``` py\n",
    "image = torch.tensor([i00, i01, ... i0N],\n",
    "                     [i10, i11, ... i1N],\n",
    "                     ...\n",
    "                     [iM0, iM1, ... iMN])\n",
    "```\n",
    "可以计算出输出图像的一个元素（无偏置）：\n",
    "\n",
    "``` py\n",
    "o11 = i11 * w00 + i12 * w01 + i13 * w02 + i21 * w10 + i22 * w11 + i23 * w12 + i31 * w20 + i32 * w21 + i33 * w22\n",
    "```\n",
    "\n",
    "![](./data/images/juanji.gif)\n",
    "\n",
    "也就是说，我们平移输入图像 `i11` 位置上的核函数，然后将每个权重乘以输入图像在相应位置上的值。因此，通过平移所有输入位置上的内核并执行加权和来创建输出图像。对于多通道图像，如 RGB 图像，权重矩阵将是一个 `3*3*3` 的矩阵：每个通道对应一组权重，他们共同作用于输出值。\n",
    "\n",
    "注意，就像是 `nn.Linear` 权重矩阵中的元素一样。核中的权重是事先不知道的，他们是随机初始化的，并通过反向传播进行更新。还需要注意，相同的核以及核中的权重在整幅图像中被重用，这意味着每个权重的使用都有一个跨越整个图像的历史值，因此关于卷积权值的损失导数来自整个图像的贡献。\n",
    "\n",
    "现在可以看到它和之前提到的内容的联系了：卷积等价于进行多重线性操作，他们的权重除了个别像素外都为 0 ，并在训练期间接受相同的更新。\n",
    "\n",
    "综上所述，我们可以得到卷积的以下特征：\n",
    "\n",
    "* 邻域的局部操作\n",
    "* 平移不变性\n",
    "* 模型的参数大幅减少"
   ]
  },
  {
   "cell_type": "markdown",
   "id": "256bc4ce",
   "metadata": {},
   "source": [
    "## 卷积实战"
   ]
  },
  {
   "cell_type": "markdown",
   "id": "46175c4d",
   "metadata": {},
   "source": [
    "`torch.nn` 模块提供了一维、二维、三维的卷积，其中 `nn.Conv1d` 用于时间序列， `nn.Conv2d` 用于图像， `nn.Conv3d` 用于体数据和视频。\n",
    "\n",
    "对于 `CIFAR-10` 数据，我们将使用 `nn.Conv2d` ，提供给 `nn.Conv2d` 的参数至少包括输入特征（或通道，因为我们处理的是多通道图像，也就是说，每个像素有多个值）的数量、输入特征的数量以及核的大小等。例如，对于第一个巻积模块，每个像素有 3 个输入特征（RGB 通道），输出特征具有任意数量的通道/特征数。输出通道/特征越多，说明网络的容量越大，我们能借助于这些通道检测到很多不同类型的特征"
   ]
  },
  {
   "cell_type": "code",
   "execution_count": 2,
   "id": "27c736ee",
   "metadata": {},
   "outputs": [
    {
     "data": {
      "text/plain": [
       "Conv2d(3, 16, kernel_size=(3, 3), stride=(1, 1))"
      ]
     },
     "execution_count": 2,
     "metadata": {},
     "output_type": "execute_result"
    }
   ],
   "source": [
    "import torch.nn as nn\n",
    "\n",
    "conv = nn.Conv2d(3, 16, kernel_size=3)\n",
    "conv"
   ]
  },
  {
   "cell_type": "markdown",
   "id": "db9fe631",
   "metadata": {},
   "source": [
    "由于卷积核在各个方向上大小相同是很常见的，所以 `PyTorch` 提供了一种快捷方式：每当二维卷积指定 `kernel_size=3` 是为 3\\*3 的卷积矩阵。\n",
    "\n",
    "那么权重张量的形状应当如何呢？卷积核大小为 3\\*3 ，所以权重应当由多个 3\\*3 部分组成。对于单个像素输出值，在三个输入通道的情况下我们的权重张量为 3\\*3\\*3 ，最后我们有和输出通道一样多的多通道，即完整的权重张量为 16\\*3\\*3\\*3 ，而偏执张量为 16 ，可以验证一下："
   ]
  },
  {
   "cell_type": "code",
   "execution_count": 3,
   "id": "6b3c0165",
   "metadata": {},
   "outputs": [
    {
     "data": {
      "text/plain": [
       "(torch.Size([16, 3, 3, 3]), torch.Size([16]))"
      ]
     },
     "execution_count": 3,
     "metadata": {},
     "output_type": "execute_result"
    }
   ],
   "source": [
    "conv.weight.shape, conv.bias.shape"
   ]
  },
  {
   "cell_type": "markdown",
   "id": "0114b57e",
   "metadata": {},
   "source": [
    "接下来可以通过 `cifar-10` 数据集测试以下："
   ]
  },
  {
   "cell_type": "code",
   "execution_count": 4,
   "id": "7b2f9530",
   "metadata": {},
   "outputs": [
    {
     "data": {
      "text/plain": [
       "(torch.Size([1, 3, 32, 32]), torch.Size([1, 16, 30, 30]))"
      ]
     },
     "execution_count": 4,
     "metadata": {},
     "output_type": "execute_result"
    }
   ],
   "source": [
    "from matplotlib import pyplot as plt\n",
    "\n",
    "img, _ = cifar2[0]\n",
    "output = conv(img.unsqueeze(0))\n",
    "img.unsqueeze(0).shape, output.shape"
   ]
  },
  {
   "cell_type": "code",
   "execution_count": 5,
   "id": "8dcae665",
   "metadata": {},
   "outputs": [
    {
     "data": {
      "image/png": "[encoded data removed]",
      "text/plain": [
       "<Figure size 640x480 with 1 Axes>"
      ]
     },
     "metadata": {},
     "output_type": "display_data"
    }
   ],
   "source": [
    "plt.imshow(output[0, 0].detach(), cmap='gray')\n",
    "plt.show()"
   ]
  },
  {
   "cell_type": "code",
   "execution_count": 6,
   "id": "61863b0a",
   "metadata": {},
   "outputs": [
    {
     "name": "stderr",
     "output_type": "stream",
     "text": [
      "Clipping input data to the valid range for imshow with RGB data ([0..1] for floats or [0..255] for integers).\n"
     ]
    },
    {
     "data": {
      "image/png": "[encoded data removed]",
      "text/plain": [
       "<Figure size 640x480 with 1 Axes>"
      ]
     },
     "metadata": {},
     "output_type": "display_data"
    }
   ],
   "source": [
    "plt.imshow(img.permute(1, 2, 0))\n",
    "plt.show()"
   ]
  },
  {
   "cell_type": "markdown",
   "id": "f2d3f4a2",
   "metadata": {},
   "source": [
    "从上可以看出输出大小为 `torch.Size([1, 16, 30, 30]))` ，在这过程中，我们丢失了一些像素。造成这个结果的原因是卷积核应用到图像上时，要求其在所有方向上都有邻域，比如在 `i00` 位置，我们只有卷积核右侧和下侧的像素。\n",
    "\n",
    "不过， `PyTorch` 提供了一种填充图像的功能——通过在边界周围填充重影像素来填充图像。就卷积而言，这些重影像素的值为 0 。"
   ]
  },
  {
   "cell_type": "code",
   "execution_count": 7,
   "id": "7c807626",
   "metadata": {},
   "outputs": [
    {
     "data": {
      "text/plain": [
       "(torch.Size([1, 3, 32, 32]), torch.Size([1, 1, 32, 32]))"
      ]
     },
     "execution_count": 7,
     "metadata": {},
     "output_type": "execute_result"
    }
   ],
   "source": [
    "conv = nn.Conv2d(3, 1, kernel_size=3, padding=1)\n",
    "output = conv(img.unsqueeze(0))\n",
    "img.unsqueeze(0).shape, output.shape"
   ]
  },
  {
   "cell_type": "markdown",
   "id": "b26d2b94",
   "metadata": {},
   "source": [
    "填充卷积主要有两个原因，首先，这样做可以帮助分离卷积操作和改变图像大小操作，其次，当存在更复杂的结构时，有可能希望卷积之前和之后的张量大小是一致的，方便后续相加或取差值。"
   ]
  },
  {
   "cell_type": "markdown",
   "id": "ef333a31",
   "metadata": {},
   "source": [
    "### 用卷积检测特征"
   ]
  },
  {
   "cell_type": "markdown",
   "id": "857f6eaf",
   "metadata": {},
   "source": [
    "在之前的内容中说过卷积的权重和偏置都是通过反向传播学习的，但是我们也可以通过手动设置权重来处理卷积，先来看看会发生什么。\n",
    "\n",
    "为了消除所有干扰的因素，首先将偏置设为 0 ，然后将权重设置为一个常数值，这样输出中的每一个像素都能得到其相邻像素的均值："
   ]
  },
  {
   "cell_type": "code",
   "execution_count": 8,
   "id": "0dba33a4",
   "metadata": {},
   "outputs": [],
   "source": [
    "import torch\n",
    "with torch.no_grad():\n",
    "    conv.bias.zero_()\n",
    "    conv.weight.fill_(1.0 / 9.0)"
   ]
  },
  {
   "cell_type": "code",
   "execution_count": 10,
   "id": "bcf17063",
   "metadata": {},
   "outputs": [
    {
     "data": {
      "text/plain": [
       "<function matplotlib.pyplot.show(close=None, block=None)>"
      ]
     },
     "execution_count": 10,
     "metadata": {},
     "output_type": "execute_result"
    },
    {
     "data": {
      "image/png": "[encoded data removed]",
      "text/plain": [
       "<Figure size 640x480 with 1 Axes>"
      ]
     },
     "metadata": {},
     "output_type": "display_data"
    }
   ],
   "source": [
    "output = conv(img.unsqueeze(0))\n",
    "plt.imshow(output[0, 0].detach(), cmap='gray')\n",
    "plt.show"
   ]
  },
  {
   "cell_type": "markdown",
   "id": "97d674a7",
   "metadata": {},
   "source": [
    "可以看出滤波器会产生模糊的图像，毕竟输出的每个像素都是输入邻域的平均值，因此输出中的像素都是相关的，并且变化更加平滑。\n",
    "\n",
    "接下来尝试一些不同的东西："
   ]
  },
  {
   "cell_type": "code",
   "execution_count": 11,
   "id": "bd4085cf",
   "metadata": {},
   "outputs": [
    {
     "data": {
      "text/plain": [
       "<function matplotlib.pyplot.show(close=None, block=None)>"
      ]
     },
     "execution_count": 11,
     "metadata": {},
     "output_type": "execute_result"
    },
    {
     "data": {
      "image/png": "[encoded data removed]",
      "text/plain": [
       "<Figure size 640x480 with 1 Axes>"
      ]
     },
     "metadata": {},
     "output_type": "display_data"
    }
   ],
   "source": [
    "conv = nn.Conv2d(3, 1, kernel_size=3, padding=1)\n",
    "with torch.no_grad():\n",
    "    conv.weight[:] = torch.tensor([\n",
    "        [-1.0, 0, 1.0],\n",
    "        [-1.0, 0, 1.0],\n",
    "        [-1.0, 0, 1.0],\n",
    "    ])\n",
    "    conv.bias.zero_()\n",
    "output = conv(img.unsqueeze(0))\n",
    "plt.imshow(output[0, 0].detach(), cmap='gray')\n",
    "plt.show"
   ]
  },
  {
   "cell_type": "markdown",
   "id": "3d3d61f9",
   "metadata": {},
   "source": [
    "上面这个例子中，卷积核增强了垂直边缘，当然我们还可以构建更复杂的滤波器，例如检测水平或对角线边缘等，检测意味着输出较高的峰值。"
   ]
  },
  {
   "cell_type": "markdown",
   "id": "7f1cd0ab",
   "metadata": {},
   "source": [
    "#### 深度和池化"
   ]
  },
  {
   "cell_type": "markdown",
   "id": "e4ffe5a4",
   "metadata": {},
   "source": [
    "在之前的内容中我们从全连接转换成了卷积，实现了局部性和平移不变性，其次建议使用小的卷积核，以实现峰值局部性。但是目前还存在一个问题：我们需要检测特征的整体情况如何，因为一般情况下存在对象跨越了多个像素、大于卷积核的大小，这种情况下我们就需要考虑如何才能让卷积核看到更大范围的图像。\n",
    "\n",
    "一种方法是使用大的卷积核，对于一个 32\\*32 的图像，我们最大可使用 32\\*32 的卷积核，但这就和全连接反射变换差不多了，同时失去了卷积所有的良好特性；而另一种方法就是在卷积之后堆叠另一个卷积，同时在卷积之间进行下采样。\n",
    "\n",
    "原则上，下采样可以以不同的方式进行。将图像缩放一半相当于取 4 个相邻像素作为输出，产生一个像素作为输出，采样的方法如下：\n",
    "\n",
    "* 取 4 个像素的平均值。\n",
    "* 取 4 个像素的最大值。\n",
    "* 使用带步长的卷积。\n",
    "\n",
    "接下来，我们将重点讨论最大池化法：\n",
    "\n",
    "![](data/images/max_pool.png)\n",
    "\n",
    "上图显示了显示了最常见的设置，即取不重叠的 2\\*2 个分片，并将每个分片上的最大值作为缩小后的新像素。"
   ]
  },
  {
   "cell_type": "code",
   "execution_count": null,
   "id": "d4cf49e5",
   "metadata": {},
   "outputs": [],
   "source": []
  }
 ],
 "metadata": {
  "kernelspec": {
   "display_name": "Python 3 (ipykernel)",
   "language": "python",
   "name": "python3"
  },
  "language_info": {
   "codemirror_mode": {
    "name": "ipython",
    "version": 3
   },
   "file_extension": ".py",
   "mimetype": "text/x-python",
   "name": "python",
   "nbconvert_exporter": "python",
   "pygments_lexer": "ipython3",
   "version": "3.10.6"
  }
 },
 "nbformat": 4,
 "nbformat_minor": 5
}
