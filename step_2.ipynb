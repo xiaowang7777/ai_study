{
 "cells": [
  {
   "cell_type": "markdown",
   "id": "3d633ee8-3539-4b77-9619-52a924fd9fdf",
   "metadata": {
    "tags": []
   },
   "source": [
    "# 张量"
   ]
  },
  {
   "cell_type": "markdown",
   "id": "b80f2b41-0555-4ef8-b69c-92d8f48703f2",
   "metadata": {},
   "source": [
    "深度学习网络的数据处理方式为浮点数处理，因此需要一种将实际数据处理编码成深度学习网络可理解、然后把输出解码成人类可理解使用的数据的方法。\n",
    "\n",
    "深度学习网络通常在不同的阶段学习将数据从一种形式转换成另一种形式，这意味着每个阶段转换的数据可以被认为是一个中间表征序列。对于图像识别而言，早期表征可以是诸如边缘检测或某些纹理，更深层次的表征可以捕捉更复杂的结构，比如耳朵、鼻子等。\n",
    "\n",
    "一般来说，这些中间表征是浮点数的集合，它们描述输入的表征，并以一种有助于描述输入映射到神经网络输出的方式捕获数据的结构。\n",
    "\n",
    "为此，PyTorch 引入了一种基本的数据结构：张量。张量是一个数组，存储了一组数字，这些数字可以用一个索引单独访问，也可以用多个索引访问。"
   ]
  },
  {
   "cell_type": "markdown",
   "id": "fd267db6",
   "metadata": {
    "tags": []
   },
   "source": [
    "## 张量：多维数组"
   ]
  },
  {
   "cell_type": "markdown",
   "id": "a9ad4aa1-d623-4926-9aa0-07027e16ac19",
   "metadata": {},
   "source": [
    "我们已经知道**张量**是 `PyTorch` 中基本的数据结构，可以看做一个数组，存储了一组数字，这些数字可以用一个索引访问，也可以用多个索引访问。\n",
    "\n",
    "我们来构造第一个 `PyTorch` **张量**，现在它还不是一个特别有意义的**张量**，一列中只有 3 个 1 。"
   ]
  },
  {
   "cell_type": "code",
   "execution_count": 3,
   "id": "e6a0f274-9e42-4f33-b6ba-50651690b41d",
   "metadata": {
    "tags": []
   },
   "outputs": [
    {
     "data": {
      "text/plain": [
       "tensor([1., 1., 1.])"
      ]
     },
     "execution_count": 3,
     "metadata": {},
     "output_type": "execute_result"
    }
   ],
   "source": [
    "import torch\n",
    "a = torch.ones(3)\n",
    "a"
   ]
  },
  {
   "cell_type": "code",
   "execution_count": 4,
   "id": "76d96159-dc33-428b-872c-b793a05984bf",
   "metadata": {
    "tags": []
   },
   "outputs": [
    {
     "data": {
      "text/plain": [
       "tensor(1.)"
      ]
     },
     "execution_count": 4,
     "metadata": {},
     "output_type": "execute_result"
    }
   ],
   "source": [
    "a[1]"
   ]
  },
  {
   "cell_type": "code",
   "execution_count": 5,
   "id": "8a95f2e0-6383-498c-8713-f01cb269d0d9",
   "metadata": {
    "tags": []
   },
   "outputs": [
    {
     "data": {
      "text/plain": [
       "1.0"
      ]
     },
     "execution_count": 5,
     "metadata": {},
     "output_type": "execute_result"
    }
   ],
   "source": [
    "float(a[1])"
   ]
  },
  {
   "cell_type": "code",
   "execution_count": 6,
   "id": "9905b79b-3278-454b-b505-dd6fc53f377d",
   "metadata": {
    "tags": []
   },
   "outputs": [
    {
     "data": {
      "text/plain": [
       "tensor([1., 1., 2.])"
      ]
     },
     "execution_count": 6,
     "metadata": {},
     "output_type": "execute_result"
    }
   ],
   "source": [
    "a[2] = 2.0\n",
    "a"
   ]
  },
  {
   "cell_type": "markdown",
   "id": "734df0a8-27e2-4558-ab92-ff1596882790",
   "metadata": {},
   "source": [
    "### 张量的本质"
   ]
  },
  {
   "cell_type": "markdown",
   "id": "26729de8-5c6a-41ee-b771-87e2b58afb46",
   "metadata": {},
   "source": [
    "`Python` 列表或数字元组是在内存中单独分配的 `Python` 对象的集合， `PyTorch` **张量**或 `NumPy` 数组通常是内存连续的视图，这些内存块包含未装箱的 C 数字类型，而不是 `Python` 对象。"
   ]
  },
  {
   "cell_type": "code",
   "execution_count": null,
   "id": "473a5b7c-9e3b-462d-add8-7942984b3ab2",
   "metadata": {},
   "outputs": [],
   "source": [
    "import numpy as np\n",
    "\n",
    "np."
   ]
  }
 ],
 "metadata": {
  "kernelspec": {
   "display_name": "Python 3 (ipykernel)",
   "language": "python",
   "name": "python3"
  },
  "language_info": {
   "codemirror_mode": {
    "name": "ipython",
    "version": 3
   },
   "file_extension": ".py",
   "mimetype": "text/x-python",
   "name": "python",
   "nbconvert_exporter": "python",
   "pygments_lexer": "ipython3",
   "version": "3.10.9"
  }
 },
 "nbformat": 4,
 "nbformat_minor": 5
}
