{
 "cells": [
  {
   "cell_type": "code",
   "execution_count": 1,
   "id": "eb0dbe86-29a7-48f9-a08a-c89265c1cb0d",
   "metadata": {
    "tags": []
   },
   "outputs": [
    {
     "data": {
      "text/plain": [
       "array([[ 7.  ,  0.27,  0.36, ...,  0.45,  8.8 ,  6.  ],\n",
       "       [ 6.3 ,  0.3 ,  0.34, ...,  0.49,  9.5 ,  6.  ],\n",
       "       [ 8.1 ,  0.28,  0.4 , ...,  0.44, 10.1 ,  6.  ],\n",
       "       ...,\n",
       "       [ 6.5 ,  0.24,  0.19, ...,  0.46,  9.4 ,  6.  ],\n",
       "       [ 5.5 ,  0.29,  0.3 , ...,  0.38, 12.8 ,  7.  ],\n",
       "       [ 6.  ,  0.21,  0.38, ...,  0.32, 11.8 ,  6.  ]], dtype=float32)"
      ]
     },
     "execution_count": 1,
     "metadata": {},
     "output_type": "execute_result"
    }
   ],
   "source": [
    "import torch\n",
    "import numpy\n",
    "import csv\n",
    "wine_path = \"./data/p1ch4/tabular-wine/winequality-white.csv\"\n",
    "wineq_numpy = numpy.loadtxt(wine_path,dtype=numpy.float32,delimiter=\";\",skiprows=1)\n",
    "wineq_numpy"
   ]
  },
  {
   "cell_type": "code",
   "execution_count": 2,
   "id": "91a63839-fe88-4f75-a124-1dd110dcf232",
   "metadata": {
    "tags": []
   },
   "outputs": [
    {
     "data": {
      "text/plain": [
       "(torch.Size([4898, 12]), torch.float32)"
      ]
     },
     "execution_count": 2,
     "metadata": {},
     "output_type": "execute_result"
    }
   ],
   "source": [
    "wineq = torch.from_numpy(wineq_numpy)\n",
    "wineq.shape, wineq.dtype"
   ]
  },
  {
   "cell_type": "code",
   "execution_count": 3,
   "id": "50773d93-62fa-49a9-a73f-23175ce91512",
   "metadata": {
    "tags": []
   },
   "outputs": [
    {
     "data": {
      "text/plain": [
       "(tensor([[ 7.0000,  0.2700,  0.3600,  ...,  3.0000,  0.4500,  8.8000],\n",
       "         [ 6.3000,  0.3000,  0.3400,  ...,  3.3000,  0.4900,  9.5000],\n",
       "         [ 8.1000,  0.2800,  0.4000,  ...,  3.2600,  0.4400, 10.1000],\n",
       "         ...,\n",
       "         [ 6.5000,  0.2400,  0.1900,  ...,  2.9900,  0.4600,  9.4000],\n",
       "         [ 5.5000,  0.2900,  0.3000,  ...,  3.3400,  0.3800, 12.8000],\n",
       "         [ 6.0000,  0.2100,  0.3800,  ...,  3.2600,  0.3200, 11.8000]]),\n",
       " torch.Size([4898, 11]))"
      ]
     },
     "execution_count": 3,
     "metadata": {},
     "output_type": "execute_result"
    }
   ],
   "source": [
    "data = wineq[:,:-1]\n",
    "data,data.shape"
   ]
  },
  {
   "cell_type": "code",
   "execution_count": 4,
   "id": "acdf282c-8e7f-41c6-8252-0405aabaea69",
   "metadata": {
    "tags": []
   },
   "outputs": [
    {
     "data": {
      "text/plain": [
       "(tensor([6., 6., 6.,  ..., 6., 7., 6.]), torch.Size([4898]))"
      ]
     },
     "execution_count": 4,
     "metadata": {},
     "output_type": "execute_result"
    }
   ],
   "source": [
    "target = wineq[:,-1]\n",
    "target,target.shape"
   ]
  },
  {
   "cell_type": "code",
   "execution_count": 5,
   "id": "e10851c5-1da5-454d-a047-e5ada90001eb",
   "metadata": {
    "tags": []
   },
   "outputs": [
    {
     "data": {
      "text/plain": [
       "(tensor([6, 6, 6,  ..., 6, 7, 6]), torch.Size([4898]))"
      ]
     },
     "execution_count": 5,
     "metadata": {},
     "output_type": "execute_result"
    }
   ],
   "source": [
    "target = wineq[:,-1].long()\n",
    "target,target.shape"
   ]
  },
  {
   "cell_type": "code",
   "execution_count": 6,
   "id": "9d4c42f6-00ca-46e3-a6ef-1d7ba1e86d70",
   "metadata": {
    "tags": []
   },
   "outputs": [
    {
     "data": {
      "text/plain": [
       "(torch.Size([4898, 10]),\n",
       " tensor([[6],\n",
       "         [6],\n",
       "         [6],\n",
       "         ...,\n",
       "         [6],\n",
       "         [7],\n",
       "         [6]]))"
      ]
     },
     "execution_count": 6,
     "metadata": {},
     "output_type": "execute_result"
    }
   ],
   "source": [
    "target_onehot = torch.zeros(target.shape[0],10)\n",
    "_target = target.unsqueeze(1)\n",
    "target_onehot.scatter_(1,_target,1.0)\n",
    "target_onehot.shape,_target"
   ]
  },
  {
   "cell_type": "code",
   "execution_count": 7,
   "id": "5d19d628-3d50-4753-9681-554e216a7105",
   "metadata": {
    "tags": []
   },
   "outputs": [
    {
     "data": {
      "text/plain": [
       "tensor([[ 1.7208e-01, -8.1761e-02,  2.1326e-01,  ..., -1.2468e+00,\n",
       "         -3.4915e-01, -1.3930e+00],\n",
       "        [-6.5743e-01,  2.1587e-01,  4.7996e-02,  ...,  7.3995e-01,\n",
       "          1.3422e-03, -8.2419e-01],\n",
       "        [ 1.4756e+00,  1.7450e-02,  5.4378e-01,  ...,  4.7505e-01,\n",
       "         -4.3677e-01, -3.3663e-01],\n",
       "        ...,\n",
       "        [-4.2043e-01, -3.7940e-01, -1.1915e+00,  ..., -1.3130e+00,\n",
       "         -2.6153e-01, -9.0545e-01],\n",
       "        [-1.6054e+00,  1.1666e-01, -2.8253e-01,  ...,  1.0049e+00,\n",
       "         -9.6251e-01,  1.8574e+00],\n",
       "        [-1.0129e+00, -6.7703e-01,  3.7852e-01,  ...,  4.7505e-01,\n",
       "         -1.4882e+00,  1.0448e+00]])"
      ]
     },
     "execution_count": 7,
     "metadata": {},
     "output_type": "execute_result"
    }
   ],
   "source": [
    "data_normalized = (data - torch.mean(data,dim=0))/torch.sqrt(torch.var(data,dim=0))\n",
    "data_normalized"
   ]
  },
  {
   "cell_type": "markdown",
   "id": "9beec934-4809-430c-854f-3e2e656737fc",
   "metadata": {},
   "source": [
    "## 4.4 例"
   ]
  },
  {
   "cell_type": "markdown",
   "id": "ce3e4c14-1466-4fdf-8d8c-361605d9a14c",
   "metadata": {},
   "source": [
    "`PyTorch` 实战 4.4 例，按时间维度的数据处理。\n",
    "\n",
    "源数据是来自华盛顿特区的自行车共享数据集，包括 2011~2012 年华盛顿自行车共享系统每小时的自行车租凭数量，以及天气和季节信息。我们的目标是将一个平面的二维数据集转换为三维数据集。数据地址为：\"./data/p1ch4/bike-sharing-dataset/hour-fixed.csv\"。\n",
    "\n",
    "在源数据中，每一行都是单独的一小时数据，我们想改变以每小时为一行的数据组织方式，使第一个轴以日期为索引递增，第二个轴表示一天中的小时，独立于日期，第三个轴表示不同的数据列，包括天气、温度等。\n",
    "\n",
    "现在开始加载数据："
   ]
  },
  {
   "cell_type": "code",
   "execution_count": 8,
   "id": "2a4a5518-ec7d-470a-a403-ec8c8bccc02a",
   "metadata": {
    "tags": []
   },
   "outputs": [
    {
     "data": {
      "text/plain": [
       "tensor([[1.0000e+00, 1.0000e+00, 1.0000e+00,  ..., 3.0000e+00, 1.3000e+01,\n",
       "         1.6000e+01],\n",
       "        [2.0000e+00, 1.0000e+00, 1.0000e+00,  ..., 8.0000e+00, 3.2000e+01,\n",
       "         4.0000e+01],\n",
       "        [3.0000e+00, 1.0000e+00, 1.0000e+00,  ..., 5.0000e+00, 2.7000e+01,\n",
       "         3.2000e+01],\n",
       "        ...,\n",
       "        [1.7377e+04, 3.1000e+01, 1.0000e+00,  ..., 7.0000e+00, 8.3000e+01,\n",
       "         9.0000e+01],\n",
       "        [1.7378e+04, 3.1000e+01, 1.0000e+00,  ..., 1.3000e+01, 4.8000e+01,\n",
       "         6.1000e+01],\n",
       "        [1.7379e+04, 3.1000e+01, 1.0000e+00,  ..., 1.2000e+01, 3.7000e+01,\n",
       "         4.9000e+01]])"
      ]
     },
     "execution_count": 8,
     "metadata": {},
     "output_type": "execute_result"
    }
   ],
   "source": [
    "import numpy as np\n",
    "bikes_numpy = np.loadtxt(\"./data/p1ch4/bike-sharing-dataset/hour-fixed.csv\",\n",
    "                        dtype=np.float32,\n",
    "                        delimiter=\",\",\n",
    "                        skiprows=1,\n",
    "                        converters={1:lambda x:float(x[8:10])})\n",
    "bikes = torch.from_numpy(bikes_numpy)\n",
    "bikes"
   ]
  },
  {
   "cell_type": "markdown",
   "id": "1e3bc2d9-c28a-4e3c-b498-a5c37edb6947",
   "metadata": {},
   "source": [
    "对于每小时，数据集统计了以下信息。\n",
    "\n",
    "* 记录的索引\n",
    "* 日期\n",
    "* 季节 （1表示春季，2表示夏季，3表示秋季，4表示冬季）\n",
    "* 年份 （0表示11年，1表示12年）\n",
    "* 月份 （1～12）\n",
    "* 小时 （0～23）\n",
    "* 节假日\n",
    "* 工作日\n",
    "* 工作日状态\n",
    "* 天气情况\n",
    "* 摄氏温度\n",
    "* 体感温度\n",
    "* 湿度\n",
    "* 风速\n",
    "* 临时用户数\n",
    "* 注册用户数\n",
    "* 租凭自行车数量\n",
    "\n"
   ]
  },
  {
   "cell_type": "code",
   "execution_count": 9,
   "id": "f0ed4222-d4f3-43e4-9565-2515e2578e22",
   "metadata": {},
   "outputs": [
    {
     "data": {
      "text/plain": [
       "(torch.Size([17520, 17]), (17, 1))"
      ]
     },
     "execution_count": 9,
     "metadata": {},
     "output_type": "execute_result"
    }
   ],
   "source": [
    "bikes.shape, bikes.stride()"
   ]
  },
  {
   "cell_type": "code",
   "execution_count": 11,
   "id": "2938a6a1-b1fd-4bd7-816b-b4e32a1a3e99",
   "metadata": {
    "tags": []
   },
   "outputs": [
    {
     "data": {
      "text/plain": [
       "(torch.Size([730, 24, 17]), (408, 17, 1))"
      ]
     },
     "execution_count": 11,
     "metadata": {},
     "output_type": "execute_result"
    }
   ],
   "source": [
    "daily_bikes = bikes.view(-1,24,bikes.shape[1])\n",
    "daily_bikes.shape, daily_bikes.stride()"
   ]
  },
  {
   "cell_type": "code",
   "execution_count": 12,
   "id": "41123a11-67c1-4293-8a16-0c12427dae67",
   "metadata": {
    "tags": []
   },
   "outputs": [
    {
     "data": {
      "text/plain": [
       "(torch.Size([730, 17, 24]), (408, 1, 17))"
      ]
     },
     "execution_count": 12,
     "metadata": {},
     "output_type": "execute_result"
    }
   ],
   "source": [
    "daily_bikes = daily_bikes.transpose(1,2)\n",
    "daily_bikes.shape, daily_bikes.stride()"
   ]
  },
  {
   "cell_type": "code",
   "execution_count": null,
   "id": "a3b82aa7-7f94-4cdb-b3e9-ce432da82e42",
   "metadata": {},
   "outputs": [],
   "source": []
  }
 ],
 "metadata": {
  "kernelspec": {
   "display_name": "Python 3 (ipykernel)",
   "language": "python",
   "name": "python3"
  },
  "language_info": {
   "codemirror_mode": {
    "name": "ipython",
    "version": 3
   },
   "file_extension": ".py",
   "mimetype": "text/x-python",
   "name": "python",
   "nbconvert_exporter": "python",
   "pygments_lexer": "ipython3",
   "version": "3.10.9"
  }
 },
 "nbformat": 4,
 "nbformat_minor": 5
}
